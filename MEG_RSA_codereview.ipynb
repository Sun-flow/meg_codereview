{
 "cells": [
  {
   "cell_type": "code",
   "execution_count": 64,
   "metadata": {},
   "outputs": [],
   "source": [
    "import numpy as np\n",
    "import os\n",
    "import matplotlib.pyplot as plt\n",
    "from matplotlib import animation\n",
    "import pickle\n",
    "from itertools import combinations\n",
    "from scipy import stats"
   ]
  },
  {
   "cell_type": "markdown",
   "metadata": {},
   "source": [
    "Read in the decoding score data"
   ]
  },
  {
   "cell_type": "code",
   "execution_count": 65,
   "metadata": {},
   "outputs": [
    {
     "name": "stdout",
     "output_type": "stream",
     "text": [
      "7750\n"
     ]
    }
   ],
   "source": [
    "#read in decoding accuracy scores\n",
    "\n",
    "#set up directory to read in decoding scores\n",
    "S = 'S03'\n",
    "rootdir = os.getcwd()\n",
    "outdir = rootdir + '/plots'\n",
    "in_filepath = rootdir + '/' + S + '_IMbased_allscores.pkl'\n",
    "\n",
    "#load scores from the pickle file into all_scores, a dictionary of the following format: \n",
    "# key: tuple of two trial codes representing a pair of images ex. (1,2)\n",
    "# value: a 1x1081 list of decoding scores at each timepoint for those two images\n",
    "in_file = open(in_filepath,'rb')\n",
    "all_scores = pickle.load(in_file)\n",
    "in_file.close()\n",
    "\n",
    "#all_scores has 7750 items, representing every pair of images 1-125\n",
    "print(len(all_scores))"
   ]
  },
  {
   "cell_type": "markdown",
   "metadata": {},
   "source": [
    "Build the MEG RDM"
   ]
  },
  {
   "cell_type": "code",
   "execution_count": 66,
   "metadata": {},
   "outputs": [],
   "source": [
    "#convert the all_scores dictionary to a 3D numpy array (MEG RDM)\n",
    "nrows = 125\n",
    "nsamples = len(all_scores[1,2])\n",
    "\n",
    "#initialize a numpy array of zeros, size: 125x125x1081\n",
    "rdm_meg = np.zeros((nrows,nrows,nsamples))\n",
    "\n",
    "#iterate through each entry in all_scores\n",
    "for key,value in all_scores.items():\n",
    "\n",
    "    #each key dictates the row and column number we want\n",
    "    row = key[0] - 1\n",
    "    col = key[1] - 1\n",
    "\n",
    "    #fill in the corresponding list of decoding accuracies in symmetric positions in the array\n",
    "    rdm_meg[row,col] = value\n",
    "    rdm_meg[col,row] = value\n",
    "\n",
    "\n"
   ]
  },
  {
   "cell_type": "markdown",
   "metadata": {},
   "source": [
    "plot the MEG RDM "
   ]
  },
  {
   "cell_type": "code",
   "execution_count": 86,
   "metadata": {},
   "outputs": [],
   "source": [
    "#plot a single snapshot of the MEG RDM -  see figure in plots folder\n",
    "plt.imshow(rdm_meg[:,:,540],cmap='Blues')\n",
    "plt.title('MEG RDM at ~350 ms')\n",
    "plt.colorbar()\n",
    "\n",
    "#Use animation feature to visualize RDM over time\n",
    "#animation currently lags, need to plot more efficiently and add label for timepoint\n",
    "fig = plt.figure()\n",
    "\n",
    "def animate(i):\n",
    "    plt.imshow(rdm_meg[:,:,i],cmap='Blues')\n",
    "\n",
    "anim = animation.FuncAnimation(fig,animate,interval=5)"
   ]
  },
  {
   "cell_type": "markdown",
   "metadata": {},
   "source": [
    "Build Model RDMs based on trial structure"
   ]
  },
  {
   "cell_type": "code",
   "execution_count": 82,
   "metadata": {},
   "outputs": [
    {
     "name": "stdout",
     "output_type": "stream",
     "text": [
      "Trial codes for expression 1:  [1, 2, 3, 4, 5, 26, 27, 28, 29, 30, 51, 52, 53, 54, 55, 76, 77, 78, 79, 80, 101, 102, 103, 104, 105]\n",
      "Expression codes for every trial code:  {1: 1, 2: 1, 3: 1, 4: 1, 5: 1, 26: 1, 27: 1, 28: 1, 29: 1, 30: 1, 51: 1, 52: 1, 53: 1, 54: 1, 55: 1, 76: 1, 77: 1, 78: 1, 79: 1, 80: 1, 101: 1, 102: 1, 103: 1, 104: 1, 105: 1, 6: 2, 7: 2, 8: 2, 9: 2, 10: 2, 31: 2, 32: 2, 33: 2, 34: 2, 35: 2, 56: 2, 57: 2, 58: 2, 59: 2, 60: 2, 81: 2, 82: 2, 83: 2, 84: 2, 85: 2, 106: 2, 107: 2, 108: 2, 109: 2, 110: 2, 11: 3, 12: 3, 13: 3, 14: 3, 15: 3, 36: 3, 37: 3, 38: 3, 39: 3, 40: 3, 61: 3, 62: 3, 63: 3, 64: 3, 65: 3, 86: 3, 87: 3, 88: 3, 89: 3, 90: 3, 111: 3, 112: 3, 113: 3, 114: 3, 115: 3, 16: 4, 17: 4, 18: 4, 19: 4, 20: 4, 41: 4, 42: 4, 43: 4, 44: 4, 45: 4, 66: 4, 67: 4, 68: 4, 69: 4, 70: 4, 91: 4, 92: 4, 93: 4, 94: 4, 95: 4, 116: 4, 117: 4, 118: 4, 119: 4, 120: 4, 21: 5, 22: 5, 23: 5, 24: 5, 25: 5, 46: 5, 47: 5, 48: 5, 49: 5, 50: 5, 71: 5, 72: 5, 73: 5, 74: 5, 75: 5, 96: 5, 97: 5, 98: 5, 99: 5, 100: 5, 121: 5, 122: 5, 123: 5, 124: 5, 125: 5}\n"
     ]
    }
   ],
   "source": [
    "#these three helper functions generate trial codes for the (5 actors x 5 expr x 5 views)\n",
    "#input: number 1-5 representing actor, expression or view code\n",
    "#output: list of all trial codes correspoding to that actor, expression or view\n",
    "\n",
    "#these functions are used as arguments (trialcode_func) for later functions build_trial_key and build_model_rdm\n",
    "\n",
    "trial_codes = [111,112,113,114,115,121,122....] # list of all trial codes\n",
    "\n",
    "def get_trials(which_type_int, which_code): # Where which_type_int could be [0, 1, 2] based on which char you want to access in trial code\n",
    "    return [i for i in trial_codes if i[which_type_int] == which_code]\n",
    "\n",
    "## OR ##\n",
    "\n",
    "trialcode_structure = open(trialcode_structure_meg.xlsx)\n",
    "\n",
    "def get_trials2(which_type_str, which_code):\n",
    "    return trialcode_structure[trialcode_structure[which_type_str] == which_code]\n",
    "\n",
    "\n",
    "\n",
    "def get_trials_by_expression(exp_code):\n",
    "    trial_codes = []\n",
    "    start_code = (exp_code*5) - 4\n",
    "    \n",
    "    for i in range(start_code,125,25):\n",
    "        for j in range(i,i+5):\n",
    "            trial_codes.append(j)\n",
    "    return trial_codes\n",
    "\n",
    "def get_trials_by_id(actor_code):\n",
    "    start_code = (actor_code * 25) - 24\n",
    "    return [i for i in range(start_code,start_code+25)]\n",
    "\n",
    "def get_trials_by_view(view_code):\n",
    "    return [i for i in range(view_code, 126,5)]\n",
    "\n",
    "print('Trial codes for expression 1: ', get_trials_by_expression(1))\n",
    "\n",
    "#helper function for building model rdms\n",
    "def build_trial_key(trialcode_func):\n",
    "    #input: one of the three trial code functions above\n",
    "    #output: a dict mapping each trial code (1-125) to its corresponding id, expression, or view code (1-5)\n",
    "    key = {}\n",
    "    for i in range(5):\n",
    "        codes = (trialcode_func(i+1))\n",
    "        #print(codes)\n",
    "        \n",
    "        for code in codes:\n",
    "            key[code] = i+1\n",
    "\n",
    "    return key\n",
    "\n",
    "print('Expression codes for every trial code: ', build_trial_key(get_trials_by_expression))"
   ]
  },
  {
   "cell_type": "code",
   "execution_count": 73,
   "metadata": {},
   "outputs": [],
   "source": [
    "#build a model rdm for each condition\n",
    "\n",
    "def build_model_rdm(trialcode_func):\n",
    "\n",
    "    #build the key linking trial codes to exp/id/view codes\n",
    "    key = build_trial_key(trialcode_func)\n",
    "\n",
    "    n = len(key)\n",
    "\n",
    "    #initialize a numpy array filled with ones, size 125x125\n",
    "    rdm = np.ones((n,n))\n",
    "\n",
    "    #iterate through each row and column number to build the model rdm\n",
    "    for r in range(n):\n",
    "\n",
    "        for c in range(n):\n",
    "\n",
    "            #if the two trial codes map to the same expression, id or view, fill this entry with 0\n",
    "            if key[r+1] == key[c+1]:\n",
    "                rdm[r,c] = 0\n",
    "                \n",
    "            #if different, entry remains as 1\n",
    "\n",
    "    return rdm\n",
    "\n",
    "rdm_view = build_model_rdm(get_trials_by_view)\n",
    "rdm_id = build_model_rdm(get_trials_by_id)\n",
    "rdm_exp = build_model_rdm(get_trials_by_expression)\n"
   ]
  },
  {
   "cell_type": "code",
   "execution_count": 74,
   "metadata": {},
   "outputs": [],
   "source": [
    "#plot the 3 model RDM as subplots on a single figure\n",
    "fig,ax = plt.subplots(1,3)\n",
    "\n",
    "ax[0].imshow(rdm_id)\n",
    "ax[0].set_title('Identity')\n",
    "ax[1].imshow(rdm_exp)\n",
    "ax[1].set_title('Expression')\n",
    "ax[2].imshow(rdm_view)\n",
    "ax[2].set_title('Viewpoint')\n",
    "\n",
    "#adjust the spacing between subplots to avoid overlap\n",
    "fig.tight_layout()\n",
    "\n",
    "\n",
    "#see this figure in plots folder"
   ]
  },
  {
   "cell_type": "markdown",
   "metadata": {},
   "source": [
    "Compute similarity"
   ]
  },
  {
   "cell_type": "code",
   "execution_count": 77,
   "metadata": {},
   "outputs": [
    {
     "name": "stdout",
     "output_type": "stream",
     "text": [
      "1081\n"
     ]
    }
   ],
   "source": [
    "#function to correlate one model rdm with every timepoint of the meg rdm\n",
    "#return a 1x1081 list containing a timecourse of Spearman correlations\n",
    "def rsa(model, meg):\n",
    "\n",
    "    timecourse = []\n",
    "\n",
    "    #extract the upper triangle from the model rdm and flatten it\n",
    "    model_flat = np.ndarray.flatten(np.triu(model,k=1))\n",
    "\n",
    "    #iterate through each timepoint\n",
    "    for i in range(len(meg[0,0])): # \n",
    "\n",
    "        #extract the meg rdm for that timepoint\n",
    "        slice = meg[:,:,i]\n",
    "\n",
    "        #extract the upper triangle and flatten the meg rdm\n",
    "        slice_flat = np.ndarray.flatten(np.triu(slice,k=1))\n",
    "\n",
    "        #compute Spearman's R between the model and meg \n",
    "        #not keeping track of p right now but should be changed\n",
    "        correlation,p = stats.spearmanr(model_flat,slice_flat)\n",
    "\n",
    "        timecourse.append(correlation)\n",
    "\n",
    "    return timecourse\n",
    "\n",
    "\n",
    "rsa_view = rsa(rdm_view,rdm_meg)\n",
    "rsa_id = rsa(rdm_id,rdm_meg)\n",
    "rsa_exp = rsa(rdm_exp,rdm_meg)\n",
    "print(len(rsa_id))\n",
    "\n"
   ]
  },
  {
   "cell_type": "code",
   "execution_count": 78,
   "metadata": {},
   "outputs": [
    {
     "data": {
      "text/plain": [
       "<matplotlib.legend.Legend at 0x7fb941303bb0>"
      ]
     },
     "execution_count": 78,
     "metadata": {},
     "output_type": "execute_result"
    }
   ],
   "source": [
    "#plot results of rsa\n",
    "#set ranges for x and y axes\n",
    "xmin = -0.1\n",
    "xmax = 0.8\n",
    "ymin = 0.75\n",
    "ymax = 0.85\n",
    "axes = [xmin,xmax,ymin,ymax]\n",
    "\n",
    "#generate evenly spaced values for the x-axis\n",
    "nsamples = len(rsa_view)\n",
    "xvals = np.linspace(xmin,xmax,nsamples)\n",
    "\n",
    "\n",
    "plt.plot(xvals,rsa_exp,label='expression')\n",
    "plt.plot(xvals,rsa_id,label='identity')\n",
    "plt.plot(xvals,rsa_view,label='viewpoint')\n",
    "plt.axis(axes)\n",
    "plt.title('Timecourse of Spearman\\'s correlations from RSA')\n",
    "plt.xlabel('time (s)')\n",
    "plt.ylabel('Spearman\\'s R')\n",
    "plt.legend()"
   ]
  }
 ],
 "metadata": {
  "interpreter": {
   "hash": "706b82a59576f7a87e4e537fcda88bdb055292a5eca481461175bf0789fe9b90"
  },
  "kernelspec": {
   "display_name": "Python 3.10.0 ('mne')",
   "language": "python",
   "name": "python3"
  },
  "language_info": {
   "codemirror_mode": {
    "name": "ipython",
    "version": 3
   },
   "file_extension": ".py",
   "mimetype": "text/x-python",
   "name": "python",
   "nbconvert_exporter": "python",
   "pygments_lexer": "ipython3",
   "version": "3.8.8"
  },
  "orig_nbformat": 4
 },
 "nbformat": 4,
 "nbformat_minor": 2
}
